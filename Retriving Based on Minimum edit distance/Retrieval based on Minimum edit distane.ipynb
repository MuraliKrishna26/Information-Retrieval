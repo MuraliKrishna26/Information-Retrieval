{
 "cells": [
  {
   "cell_type": "code",
   "execution_count": 1,
   "metadata": {},
   "outputs": [],
   "source": [
    "## Loading Dataset\n",
    "#\n",
    "path = 'Path_of_the_data should be placed here.'"
   ]
  },
  {
   "cell_type": "code",
   "execution_count": 2,
   "metadata": {},
   "outputs": [],
   "source": [
    "file_open = open(path,\"r\")\n",
    "count = 0\n",
    "c = 0\n",
    "file_txt = \"\"\n",
    "list_word = []\n",
    "for x in file_open:\n",
    "    file_txt += x\n",
    "    \n",
    "list_word = file_txt.split(\"\\n\")    "
   ]
  },
  {
   "cell_type": "code",
   "execution_count": 3,
   "metadata": {},
   "outputs": [],
   "source": [
    "## Creating a dictionry file , Searching becomes efficient!!!\n",
    "\n",
    "dictionary = {}\n",
    "for item in list_word:\n",
    "    dictionary[item] = len(item)\n",
    "    \n"
   ]
  },
  {
   "cell_type": "code",
   "execution_count": 4,
   "metadata": {},
   "outputs": [
    {
     "data": {
      "text/plain": [
       "65197"
      ]
     },
     "execution_count": 4,
     "metadata": {},
     "output_type": "execute_result"
    }
   ],
   "source": [
    "len(dictionary)"
   ]
  },
  {
   "cell_type": "code",
   "execution_count": 5,
   "metadata": {},
   "outputs": [],
   "source": [
    "## Edit Distance\n",
    "\n",
    "def editDistanceDP(str_one,str_two, m, n):\n",
    "    \n",
    "    #Create a table to store results of subproblems\n",
    "    ed = [[0 for x in range(n + 1)] for x in range(m + 1)]\n",
    "    \n",
    "    #Filling the table in buttom up fashion\n",
    "    \n",
    "    for i in range(m + 1):\n",
    "        for j in range(n + 1):\n",
    "            \n",
    "            \n",
    "            # As the first row is zero i.e no second string\n",
    "            if i == 0:\n",
    "                ed[i][j] = j * 2\n",
    "            \n",
    "            # As the first colomn is zero i.e no first string\n",
    "            elif j ==0:\n",
    "                ed[i][j] = i * 1\n",
    "            \n",
    "            # If the last character is same then ignore last character and recur for remaining string\n",
    "            elif str_one[i-1] == str_two[j-1]:\n",
    "                ed[i][j] = ed[i-1][j-1]\n",
    "                \n",
    "            # If the last character are different then try all the three posibilities and find minimum\n",
    "            \n",
    "            else:\n",
    "                \n",
    "              #  ed[i][j] = 1 + min(ed[i][j-1],ed[i-1][j],ed[i-1][j-1])           #This is for non weighted edit distance\n",
    "                \n",
    "                ed[i][j] = min(ed[i][j-1] + 2     #For Insertion\n",
    "                               ,ed[i-1][j] + 1 ,  #For Deletion\n",
    "                               ed[i-1][j-1] + 3 ) #For Replace\n",
    "                \n",
    "                \n",
    "    return ed[m][n]        \n",
    "            \n",
    "                \n",
    "\n"
   ]
  },
  {
   "cell_type": "code",
   "execution_count": 6,
   "metadata": {},
   "outputs": [],
   "source": [
    "#Terms that are not present\n",
    "\n",
    "# again,"
   ]
  },
  {
   "cell_type": "code",
   "execution_count": 7,
   "metadata": {},
   "outputs": [],
   "source": [
    "check = dictionary"
   ]
  },
  {
   "cell_type": "code",
   "execution_count": 8,
   "metadata": {},
   "outputs": [],
   "source": [
    "## All at ones in a function blocks\n",
    "\n",
    "\n",
    "def execute(getInput,k):\n",
    "    \n",
    "    split_words = getInput.split(\" \")\n",
    "    bag = []\n",
    "    for item in split_words:\n",
    "        item = item.lower()\n",
    "        if check.get(item) == None :\n",
    "                bag += [item]\n",
    "            \n",
    "    print('There are',len(bag),'words which are not present in the dataset:' , bag)\n",
    "    \n",
    "    for string in bag:\n",
    "        \n",
    "        allkeys = check.keys()\n",
    "        minED = {}\n",
    "        \n",
    "        for item in allkeys:\n",
    "            \n",
    "            distance = editDistanceDP(string,item,len(string),len(item))\n",
    "    \n",
    "            if minED.get(distance) == None:\n",
    "                #if the the distance is new\n",
    "                minED[distance] = [item]\n",
    "            else:\n",
    "                #if the distance is already present then add the item to the list\n",
    "                minED[distance] += [item]\n",
    "        \n",
    "        ##Sort the minED with the keys\n",
    "        \n",
    "        key = minED.keys()\n",
    "        minED_Sorted = {}\n",
    "        \n",
    "        for item in sorted(key):\n",
    "            \n",
    "            list_old = minED.get(item)\n",
    "            sorted(list_old)\n",
    "            minED_Sorted[item] = list_old\n",
    "            \n",
    "            \n",
    "        count = 0\n",
    "        flag = 0\n",
    "        ans = []\n",
    "        for item in minED_Sorted.keys():\n",
    "            \n",
    "            take_list = minED_Sorted.get(item)\n",
    "            length = len(take_list)\n",
    "            \n",
    "            for x in take_list :\n",
    "                ans += [x]\n",
    "                count += 1\n",
    "                \n",
    "                if count == k :\n",
    "                    flag = 1\n",
    "                    break\n",
    "                    \n",
    "            if flag == 1:\n",
    "                break\n",
    "        \n",
    "        print('The top',k,'closest match for the word ',string,' is :',ans)\n",
    "\n",
    "\n"
   ]
  },
  {
   "cell_type": "code",
   "execution_count": null,
   "metadata": {},
   "outputs": [],
   "source": []
  },
  {
   "cell_type": "code",
   "execution_count": 10,
   "metadata": {},
   "outputs": [],
   "source": [
    "#execute(getInput,10)"
   ]
  },
  {
   "cell_type": "code",
   "execution_count": 13,
   "metadata": {},
   "outputs": [
    {
     "name": "stdout",
     "output_type": "stream",
     "text": [
      "Enter the String   : murali\n",
      "Enter how many closest matches required  : 4\n",
      "-------------------------------------------------------------------------------------------------------------\n",
      "There are 1 words which are not present in the dataset: ['murali']\n",
      "The top 4 closest match for the word  murali  is : ['mural', 'mali', 'ural', 'murals']\n",
      "-------------------------------------------------------------------------------------------------------------\n"
     ]
    }
   ],
   "source": [
    "getInput = input('Enter the String   : ')\n",
    "k = int(input('Enter how many closest matches required  : '))\n",
    "print('-------------------------------------------------------------------------------------------------------------')\n",
    "execute(getInput,k)\n",
    "print('-------------------------------------------------------------------------------------------------------------')\n"
   ]
  },
  {
   "cell_type": "code",
   "execution_count": null,
   "metadata": {},
   "outputs": [],
   "source": []
  },
  {
   "cell_type": "code",
   "execution_count": null,
   "metadata": {},
   "outputs": [],
   "source": []
  },
  {
   "cell_type": "code",
   "execution_count": null,
   "metadata": {},
   "outputs": [],
   "source": []
  }
 ],
 "metadata": {
  "kernelspec": {
   "display_name": "Python 3",
   "language": "python",
   "name": "python3"
  },
  "language_info": {
   "codemirror_mode": {
    "name": "ipython",
    "version": 3
   },
   "file_extension": ".py",
   "mimetype": "text/x-python",
   "name": "python",
   "nbconvert_exporter": "python",
   "pygments_lexer": "ipython3",
   "version": "3.7.3"
  }
 },
 "nbformat": 4,
 "nbformat_minor": 2
}

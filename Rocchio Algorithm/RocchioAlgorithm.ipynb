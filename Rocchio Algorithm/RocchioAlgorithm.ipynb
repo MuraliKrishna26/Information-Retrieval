{
 "cells": [
  {
   "cell_type": "code",
   "execution_count": 1,
   "metadata": {},
   "outputs": [],
   "source": [
    "import os\n",
    "import re\n",
    "import numpy as np\n",
    "import operator\n",
    "\n",
    "from nltk.corpus import stopwords\n",
    "from nltk.tokenize import word_tokenize\n",
    "from nltk.stem import PorterStemmer\n",
    "from collections import Counter\n",
    "from num2words import num2words\n",
    "from sklearn.manifold import TSNE\n",
    "import matplotlib.pyplot as plt"
   ]
  },
  {
   "cell_type": "code",
   "execution_count": 2,
   "metadata": {},
   "outputs": [
    {
     "name": "stderr",
     "output_type": "stream",
     "text": [
      "[nltk_data] Downloading package wordnet to C:\\Users\\Lakshmi\n",
      "[nltk_data]     Praffulla\\AppData\\Roaming\\nltk_data...\n",
      "[nltk_data]   Package wordnet is already up-to-date!\n"
     ]
    }
   ],
   "source": [
    "## Lemmatizations\n",
    "import nltk\n",
    "from nltk.stem import WordNetLemmatizer \n",
    "nltk.download('wordnet')\n",
    "\n",
    "lemmatizer = WordNetLemmatizer()"
   ]
  },
  {
   "cell_type": "code",
   "execution_count": 3,
   "metadata": {},
   "outputs": [],
   "source": [
    "inside_folder = '20_newsgroups'"
   ]
  },
  {
   "cell_type": "code",
   "execution_count": 4,
   "metadata": {},
   "outputs": [
    {
     "data": {
      "text/plain": [
       "['alt.atheism',\n",
       " 'comp.graphics',\n",
       " 'comp.os.ms-windows.misc',\n",
       " 'comp.sys.ibm.pc.hardware',\n",
       " 'comp.sys.mac.hardware',\n",
       " 'comp.windows.x',\n",
       " 'misc.forsale',\n",
       " 'rec.autos',\n",
       " 'rec.motorcycles',\n",
       " 'rec.sport.baseball',\n",
       " 'rec.sport.hockey',\n",
       " 'sci.crypt',\n",
       " 'sci.electronics',\n",
       " 'sci.med',\n",
       " 'sci.space',\n",
       " 'soc.religion.christian',\n",
       " 'talk.politics.guns',\n",
       " 'talk.politics.mideast',\n",
       " 'talk.politics.misc',\n",
       " 'talk.religion.misc']"
      ]
     },
     "execution_count": 4,
     "metadata": {},
     "output_type": "execute_result"
    }
   ],
   "source": [
    "directory_r = [f for f in os.listdir('./20_newsgroups') if not f.startswith('.')]\n",
    "directory_r"
   ]
  },
  {
   "cell_type": "code",
   "execution_count": 5,
   "metadata": {},
   "outputs": [],
   "source": [
    "wanted_directory =['comp.graphics','sci.med','talk.politics.misc','rec.sport.hockey','sci.space']\n"
   ]
  },
  {
   "cell_type": "code",
   "execution_count": 6,
   "metadata": {},
   "outputs": [],
   "source": [
    "def lematization(data):\n",
    "    lemmatizer = WordNetLemmatizer()\n",
    "    \n",
    "    tokens = word_tokenize(str(data))\n",
    "    new_text = \"\"\n",
    "    for i in tokens:\n",
    "        new_text = new_text + \" \" + lemmatizer.lemmatize(i)\n",
    "    \n",
    "    return new_text"
   ]
  },
  {
   "cell_type": "code",
   "execution_count": 7,
   "metadata": {},
   "outputs": [],
   "source": [
    "def convert_lower_case(data):\n",
    "    return np.char.lower(data)"
   ]
  },
  {
   "cell_type": "code",
   "execution_count": 8,
   "metadata": {},
   "outputs": [],
   "source": [
    "def remove_stop_words(data):\n",
    "    stop_words = stopwords.words('english')\n",
    "    words = word_tokenize(str(data))\n",
    "    new_text = \"\"\n",
    "    for w in words:\n",
    "        if w not in stop_words and len(w) > 1:\n",
    "            new_text = new_text + \" \" + w\n",
    "    return new_text"
   ]
  },
  {
   "cell_type": "code",
   "execution_count": 9,
   "metadata": {},
   "outputs": [],
   "source": [
    "def remove_punctuation(data):\n",
    "    symbols = \"!\\\"#$%&()*+-./:;<=>?@[\\]^_`{|}~\\n\"\n",
    "    for i in range(len(symbols)):\n",
    "        data = np.char.replace(data, symbols[i], ' ')\n",
    "        data = np.char.replace(data, \"  \", \" \")\n",
    "    data = np.char.replace(data, ',', '')\n",
    "    return data"
   ]
  },
  {
   "cell_type": "code",
   "execution_count": 10,
   "metadata": {},
   "outputs": [],
   "source": [
    "def remove_apostrophe(data):\n",
    "    return np.char.replace(data, \"'\", \"\")"
   ]
  },
  {
   "cell_type": "code",
   "execution_count": 11,
   "metadata": {},
   "outputs": [],
   "source": [
    "def remove_apostrophe(data):\n",
    "    return np.char.replace(data, \"'\", \"\")"
   ]
  },
  {
   "cell_type": "code",
   "execution_count": 12,
   "metadata": {},
   "outputs": [],
   "source": [
    "def convert_numbers(data):\n",
    "    tokens = word_tokenize(str(data))\n",
    "    new_text = \"\"\n",
    "    for w in tokens:\n",
    "        try:\n",
    "            w = num2words(int(w))\n",
    "        except:\n",
    "            a = 0\n",
    "        new_text = new_text + \" \" + w\n",
    "    new_text = np.char.replace(new_text, \"-\", \" \")\n",
    "    return new_text"
   ]
  },
  {
   "cell_type": "code",
   "execution_count": null,
   "metadata": {},
   "outputs": [],
   "source": []
  },
  {
   "cell_type": "code",
   "execution_count": 13,
   "metadata": {},
   "outputs": [],
   "source": [
    "def preprocess(data):\n",
    "    data = convert_lower_case(data)\n",
    "    data = remove_punctuation(data) \n",
    "    data = remove_apostrophe(data)\n",
    "    data = remove_stop_words(data)\n",
    "    data = convert_numbers(data)\n",
    "    \n",
    "    data = lematization(data)\n",
    "    data = remove_punctuation(data)\n",
    "    data = convert_numbers(data)\n",
    "    data = remove_punctuation(data) #needed again as num2word is giving few hypens and commas fourty-one\n",
    "    data = remove_stop_words(data) #needed again as num2word is giving stop words 101 - one hundred and one\n",
    "    return data"
   ]
  },
  {
   "cell_type": "code",
   "execution_count": null,
   "metadata": {},
   "outputs": [],
   "source": []
  },
  {
   "cell_type": "code",
   "execution_count": 56,
   "metadata": {},
   "outputs": [
    {
     "name": "stdout",
     "output_type": "stream",
     "text": [
      "0\n",
      "1000\n",
      "2000\n",
      "3000\n",
      "4000\n"
     ]
    }
   ],
   "source": [
    "processed_text = []\n",
    "doc_list = []\n",
    "paths = []\n",
    "\n",
    "path_number = []\n",
    "\n",
    "co = 0\n",
    "for i in range(len(wanted_directory)):\n",
    "    files = os.listdir('./20_newsgroups/' + wanted_directory[i])\n",
    "    for j in range(len(files)):\n",
    "        path = './20_newsgroups/' + wanted_directory[i] + '/' + files[j]\n",
    "        \n",
    "        doc_id = files[j]\n",
    "        \n",
    "        path_number.append(files[j])\n",
    "        paths.append(wanted_directory[i] + '/' + files[j])\n",
    "        \n",
    "        text = open(path,'r',errors='ignore').read()\n",
    "        doc_list.append(text)\n",
    "        \n",
    "        processed_text.append(word_tokenize(str(preprocess(text))))\n",
    "        \n",
    "        \n",
    "        if co%1000 == 0:\n",
    "            print(co)\n",
    "        co = co + 1"
   ]
  },
  {
   "cell_type": "code",
   "execution_count": 15,
   "metadata": {},
   "outputs": [
    {
     "data": {
      "text/plain": [
       "5000"
      ]
     },
     "execution_count": 15,
     "metadata": {},
     "output_type": "execute_result"
    }
   ],
   "source": [
    "len(processed_text)"
   ]
  },
  {
   "cell_type": "markdown",
   "metadata": {},
   "source": [
    "# Cosine Similarity with tf-idf weighting"
   ]
  },
  {
   "cell_type": "code",
   "execution_count": 63,
   "metadata": {},
   "outputs": [],
   "source": [
    "path_num_int = []\n",
    "for item in path_number:\n",
    "    path_num_int.append(int(item))"
   ]
  },
  {
   "cell_type": "code",
   "execution_count": 16,
   "metadata": {},
   "outputs": [],
   "source": [
    "# processed_text has all the text_data of each document stored in a list\n",
    "# processed_text = [[Doc_0 text],[Doc_1 text],.....]\n",
    "\n",
    "#Natural Term Frequency = tf\n",
    "\n",
    "natural_term_frequency = []\n",
    "for item in processed_text:\n",
    "    dictionary_tf ={}\n",
    "    \n",
    "    for word in item:\n",
    "        if dictionary_tf.get(word) == None:\n",
    "            dictionary_tf[word] = 1\n",
    "        else:\n",
    "            count = dictionary_tf.get(word)\n",
    "            count += 1\n",
    "            dictionary_tf[word] = count\n",
    "    \n",
    "    natural_term_frequency.append(dictionary_tf)"
   ]
  },
  {
   "cell_type": "code",
   "execution_count": 17,
   "metadata": {},
   "outputs": [],
   "source": [
    "# Logarithmic Term Frequency = 1 + log(tf)\n",
    "\n",
    "logarithmic_term_frequency = []\n",
    "\n",
    "for item in natural_term_frequency:\n",
    "    dictionary_ltf = {}\n",
    "    allkeys = item.keys()\n",
    "    \n",
    "    for word in allkeys:\n",
    "        natural_freq = item.get(word)\n",
    "        log_freq = 1 + np.log(natural_freq)\n",
    "        dictionary_ltf[word] = log_freq\n",
    "        \n",
    "    logarithmic_term_frequency.append(dictionary_ltf)"
   ]
  },
  {
   "cell_type": "code",
   "execution_count": 18,
   "metadata": {},
   "outputs": [],
   "source": [
    "# logarithmic_term_frequency"
   ]
  },
  {
   "cell_type": "code",
   "execution_count": 19,
   "metadata": {},
   "outputs": [],
   "source": [
    "#Document Frequency \n",
    "\n",
    "document_frequency = {}\n",
    "\n",
    "for item in processed_text:\n",
    "    \n",
    "    unique_terms = list(set(item))\n",
    "    \n",
    "    for word in unique_terms:\n",
    "            \n",
    "        \n",
    "        if document_frequency.get(word) == None:\n",
    "            document_frequency[word] = 1\n",
    "        else:\n",
    "            count = document_frequency.get(word)\n",
    "            count += 1\n",
    "            document_frequency[word] = count"
   ]
  },
  {
   "cell_type": "code",
   "execution_count": 20,
   "metadata": {},
   "outputs": [
    {
     "data": {
      "text/plain": [
       "51376"
      ]
     },
     "execution_count": 20,
     "metadata": {},
     "output_type": "execute_result"
    }
   ],
   "source": [
    "len(document_frequency)"
   ]
  },
  {
   "cell_type": "code",
   "execution_count": 21,
   "metadata": {},
   "outputs": [
    {
     "name": "stdout",
     "output_type": "stream",
     "text": [
      "51376\n",
      "Total Number of documents are 5000\n"
     ]
    }
   ],
   "source": [
    "print(len(document_frequency))\n",
    "N = len(processed_text)\n",
    "print('Total Number of documents are',N)"
   ]
  },
  {
   "cell_type": "code",
   "execution_count": 22,
   "metadata": {},
   "outputs": [],
   "source": [
    "#Inverse Document Frequency \n",
    "\n",
    "inverse_document_frequency = {}\n",
    "\n",
    "keys_df = document_frequency.keys()\n",
    "\n",
    "for item in keys_df:\n",
    "    \n",
    "    getvalue = document_frequency[item]\n",
    "    in_doc_freq = np.log(N/getvalue)\n",
    "    inverse_document_frequency[item] = in_doc_freq\n"
   ]
  },
  {
   "cell_type": "code",
   "execution_count": 23,
   "metadata": {},
   "outputs": [],
   "source": [
    "#TF-IDF weighting \n",
    "#Natural_Term_Frequency\n",
    "\n",
    "\n",
    "\n",
    "list_return = []\n",
    "\n",
    "for item in natural_term_frequency:\n",
    "    dict_inside = {}\n",
    "    allkeys = item.keys()\n",
    "    \n",
    "    for word in allkeys:\n",
    "        current_freq = item[word]\n",
    "        idf_for_word = inverse_document_frequency[word]\n",
    "        update_freq = current_freq * idf_for_word\n",
    "        dict_inside[word] = update_freq\n",
    "    \n",
    "    list_return.append(dict_inside)\n",
    "\n"
   ]
  },
  {
   "cell_type": "code",
   "execution_count": 24,
   "metadata": {},
   "outputs": [],
   "source": [
    "#Function block for calculating TF-IDF\n",
    "\n",
    "def calculate_tfidf(list_tf):\n",
    "    list_return = []\n",
    "    \n",
    "    for item in list_tf:\n",
    "        dict_inside = {}\n",
    "        allkeys = item.keys()\n",
    "        \n",
    "        for word in allkeys:\n",
    "            current_freq = item[word]\n",
    "            idf_for_word = inverse_document_frequency[word]\n",
    "            update_freq = current_freq * idf_for_word\n",
    "            dict_inside[word] = update_freq\n",
    "    \n",
    "        list_return.append(dict_inside)\n",
    "    \n",
    "    return list_return"
   ]
  },
  {
   "cell_type": "code",
   "execution_count": 25,
   "metadata": {},
   "outputs": [
    {
     "data": {
      "text/plain": [
       "5000"
      ]
     },
     "execution_count": 25,
     "metadata": {},
     "output_type": "execute_result"
    }
   ],
   "source": [
    "len(natural_term_frequency)"
   ]
  },
  {
   "cell_type": "code",
   "execution_count": 26,
   "metadata": {},
   "outputs": [],
   "source": [
    "tfidf_n = calculate_tfidf(natural_term_frequency)"
   ]
  },
  {
   "cell_type": "code",
   "execution_count": 27,
   "metadata": {},
   "outputs": [],
   "source": [
    "tfidf_log = calculate_tfidf(logarithmic_term_frequency)"
   ]
  },
  {
   "cell_type": "code",
   "execution_count": 28,
   "metadata": {},
   "outputs": [],
   "source": [
    "#tfidf_log"
   ]
  },
  {
   "cell_type": "code",
   "execution_count": 29,
   "metadata": {},
   "outputs": [],
   "source": [
    "## Till now we have tf-idf score in form of \"tfidf_log\"\n",
    "## Document frequency is in \"document_frequency\"\n",
    "\n",
    "    "
   ]
  },
  {
   "cell_type": "code",
   "execution_count": 32,
   "metadata": {},
   "outputs": [
    {
     "data": {
      "text/plain": [
       "51376"
      ]
     },
     "execution_count": 32,
     "metadata": {},
     "output_type": "execute_result"
    }
   ],
   "source": [
    "#All terms that are present\n",
    "all_terms = list(document_frequency.keys())\n",
    "\n",
    "len(all_terms)"
   ]
  },
  {
   "cell_type": "code",
   "execution_count": 1,
   "metadata": {},
   "outputs": [],
   "source": [
    "# all_terms"
   ]
  },
  {
   "cell_type": "code",
   "execution_count": 35,
   "metadata": {},
   "outputs": [],
   "source": [
    "doc_vector = []\n",
    "\n",
    "for item in tfidf_log:\n",
    "    #item is a dictionary. it is a document actually\n",
    "    doc_inside = []\n",
    "    for word in all_terms:\n",
    "        #for each term\n",
    "        \n",
    "        if word in item :\n",
    "            #check if the word is present in the document. if yes then store its frequency or else store 0.0\n",
    "            temp = item[word]\n",
    "            doc_inside.append(temp)\n",
    "        else:\n",
    "            doc_inside.append(0.0)\n",
    "            \n",
    "    doc_vector += [doc_inside]        \n"
   ]
  },
  {
   "cell_type": "code",
   "execution_count": 36,
   "metadata": {},
   "outputs": [
    {
     "data": {
      "text/plain": [
       "51376"
      ]
     },
     "execution_count": 36,
     "metadata": {},
     "output_type": "execute_result"
    }
   ],
   "source": [
    "len(doc_vector[0])"
   ]
  },
  {
   "cell_type": "code",
   "execution_count": 37,
   "metadata": {},
   "outputs": [
    {
     "name": "stdout",
     "output_type": "stream",
     "text": [
      "1000\n",
      "2000\n",
      "3000\n",
      "4000\n",
      "5000\n"
     ]
    }
   ],
   "source": [
    "#Normalization of doc vectors\n",
    "    \n",
    "norm_doc_vector = []\n",
    "\n",
    "co = 0\n",
    "\n",
    "for item in doc_vector:\n",
    "        #each doc list\n",
    "    \n",
    "    co = co + 1\n",
    "    \n",
    "    if(co%1000 == 0):\n",
    "        print(co)\n",
    "    \n",
    "    norm = 0.0\n",
    "    for freq in item:\n",
    "        norm += (freq*freq)\n",
    "    \n",
    "    norm = 1 / np.sqrt(norm)\n",
    "    \n",
    "    temp_list = []\n",
    "    \n",
    "    for freq in item:\n",
    "        k = freq * norm\n",
    "        temp_list.append(k)\n",
    "        \n",
    "    norm_doc_vector.append(temp_list)"
   ]
  },
  {
   "cell_type": "code",
   "execution_count": 38,
   "metadata": {},
   "outputs": [
    {
     "data": {
      "text/plain": [
       "5000"
      ]
     },
     "execution_count": 38,
     "metadata": {},
     "output_type": "execute_result"
    }
   ],
   "source": [
    "len(norm_doc_vector)"
   ]
  },
  {
   "cell_type": "code",
   "execution_count": 39,
   "metadata": {},
   "outputs": [
    {
     "data": {
      "text/plain": [
       "51376"
      ]
     },
     "execution_count": 39,
     "metadata": {},
     "output_type": "execute_result"
    }
   ],
   "source": [
    "len(norm_doc_vector[0])"
   ]
  },
  {
   "cell_type": "code",
   "execution_count": 37,
   "metadata": {},
   "outputs": [],
   "source": [
    "# norm_doc_vector"
   ]
  },
  {
   "cell_type": "code",
   "execution_count": null,
   "metadata": {},
   "outputs": [],
   "source": []
  },
  {
   "cell_type": "code",
   "execution_count": 308,
   "metadata": {},
   "outputs": [],
   "source": [
    "# Question 1\n",
    "\n",
    "# Implementing Cosine Similarity Measure with tf-idf weighting \n",
    "\n",
    "query_ = \"Pretty good opinions on biochemistry machines\"\n",
    "\n",
    "#top k documents to retrive\n",
    "k = 10\n",
    "norm_query_vector = normalizeQueryVector(query)\n",
    "\n",
    "top_,cosine = cosineScore(norm_query_vector,norm_doc_vector,k)\n"
   ]
  },
  {
   "cell_type": "code",
   "execution_count": null,
   "metadata": {},
   "outputs": [],
   "source": []
  },
  {
   "cell_type": "code",
   "execution_count": 309,
   "metadata": {},
   "outputs": [
    {
     "name": "stdout",
     "output_type": "stream",
     "text": [
      "The Top  10  documents retrived for the given query are : \n",
      "\n",
      "      File Name                          Cosine Score \n",
      "comp.graphics/38272                 0.029421723339996295\n",
      "sci.med/59587                 0.029362520348898927\n",
      "sci.space/62408                 0.02935727583110483\n",
      "sci.space/61307                 0.028850823503450394\n",
      "sci.space/61393                 0.0281714762802911\n",
      "comp.graphics/38928                 0.02781047458883607\n",
      "sci.med/59269                 0.027780694542676836\n",
      "comp.graphics/38626                 0.02747538337246704\n",
      "sci.med/58906                 0.027100090448058944\n",
      "sci.space/62104                 0.026950998302709174\n"
     ]
    }
   ],
   "source": [
    "print(\"The Top \",k,\" documents retrived for the given query are : \")\n",
    "print()  \n",
    "print(\"      File Name\",\"                       \",\" Cosine Score \")\n",
    "for item in top_:\n",
    "    print(paths[item],\"               \",cosine[item])\n",
    "    \n",
    "    \n",
    "    "
   ]
  },
  {
   "cell_type": "markdown",
   "metadata": {},
   "source": [
    "# Implementing Rocchio Algorithm"
   ]
  },
  {
   "cell_type": "code",
   "execution_count": 295,
   "metadata": {},
   "outputs": [],
   "source": [
    "def segregatedocuments(out):\n",
    "    \n",
    "    for i in range(len(out)):\n",
    "        print(i, paths[out[i]])\n",
    "\n",
    "#     n_rel = input(\"Enter Non Relevant Docs: \").split(\" \")\n",
    "    \n",
    "#     nr_docs = [out[int(i)] for i in n_rel]\n",
    "#     r_docs = list(set(out)-set(nr_docs))\n",
    "    \n",
    "    \n",
    "    n_rel = input(\"Enter Relevant Docs: \").split(\" \")\n",
    "    \n",
    "    r_docs = [out[int(i)] for i in n_rel]\n",
    "    nr_docs = list(set(out)-set(r_docs))\n",
    "    \n",
    "    for i in n_rel:\n",
    "        \n",
    "        rel_doc_int.append(int(i))\n",
    "        \n",
    "        \n",
    "    return r_docs, nr_docs"
   ]
  },
  {
   "cell_type": "code",
   "execution_count": null,
   "metadata": {},
   "outputs": [],
   "source": []
  },
  {
   "cell_type": "code",
   "execution_count": 296,
   "metadata": {},
   "outputs": [],
   "source": [
    "def centroid(list_taken):\n",
    "    \n",
    "    k = [] \n",
    "\n",
    "    for item in list_taken:\n",
    "        k.append(norm_doc_vector[item])\n",
    "    \n",
    "    return np.array(k).sum(axis=0)/len(list_taken)\n",
    "#     list_taken = list(list_taken)\n",
    "#     N = len(list_taken)\n",
    "#     sum_list = [0.0] * len(norm_doc_vector[list_taken[0]])\n",
    "    \n",
    "#     for item in list_taken:\n",
    "        \n",
    "#         sum_list = np.add(sum_list,norm_doc_vector[item]) \n",
    "    \n",
    "#     sum_list = [x / N for x in sum_list]\n",
    "    \n",
    "#     return np.array(sum_list)\n"
   ]
  },
  {
   "cell_type": "code",
   "execution_count": null,
   "metadata": {},
   "outputs": [],
   "source": []
  },
  {
   "cell_type": "code",
   "execution_count": 297,
   "metadata": {},
   "outputs": [],
   "source": [
    "def drawgraph(query_relevant,query_irrelevant,norm_query_vector):\n",
    "    \n",
    "    tsne = TSNE(n_components=2, random_state=0)\n",
    "    \n",
    "    doc_vector = []\n",
    "    labels = []\n",
    "    \n",
    "    for item in query_relevant:\n",
    "        doc_vector.append(norm_doc_vector[item])\n",
    "        labels.append(0)\n",
    "    \n",
    "    for item in query_irrelevant:\n",
    "        doc_vector.append(norm_doc_vector[item])\n",
    "        labels.append(1)\n",
    "        \n",
    "    doc_vector.append(norm_query_vector)\n",
    "    labels.append(2)    \n",
    "    \n",
    "    \n",
    "    data_tofit = tsne.fit_transform(np.array(doc_vector))\n",
    "    k = np.array(data_tofit)\n",
    "    t = (\"Relevant\",\"Non Relevant\",\"Query\")\n",
    "    plt.scatter(k[:, 0], k[:, 1], c=labels, s=60, alpha=0.8, label=\"Violet-R, Aqua-NR\")\n",
    "    plt.title(\"Rocchio Algorithm\")\n",
    "    plt.legend()\n",
    "    plt.grid(True)\n",
    "    plt.show()\n",
    "    \n",
    "    \n",
    "    "
   ]
  },
  {
   "cell_type": "code",
   "execution_count": 298,
   "metadata": {},
   "outputs": [],
   "source": [
    "def normalizeQueryVector(query):\n",
    "    \n",
    "    query_text = word_tokenize(str(preprocess(query)))\n",
    "    \n",
    "    #term_freq_query\n",
    "    term_freq_query = {}\n",
    "\n",
    "    for item in query_text:\n",
    "    \n",
    "        if item in term_freq_query:\n",
    "            temp = term_freq_query[item]\n",
    "            temp += 1\n",
    "            term_freq_query[item] = temp\n",
    "        else:\n",
    "             term_freq_query[item] = 1\n",
    "    \n",
    "    \n",
    "    \n",
    "    # Coverting into log frequency\n",
    "    \n",
    "    for item in term_freq_query.keys():\n",
    "    \n",
    "        temp = term_freq_query[item]\n",
    "        new = 1 + np.log(temp)\n",
    "        term_freq_query[item] = new\n",
    "        \n",
    "    #inverse_document_frequency\n",
    "    tf_idf_query = {}\n",
    "    \n",
    "    for item in term_freq_query.keys():\n",
    "    \n",
    "        if item in inverse_document_frequency :\n",
    "        \n",
    "            temp = inverse_document_frequency[item]\n",
    "            toadd = temp * term_freq_query[item]\n",
    "        \n",
    "            tf_idf_query[item] = toadd\n",
    "        \n",
    "        else:\n",
    "            tf_idf_query[item] = 0.0\n",
    "            \n",
    "            \n",
    "    #  query vector \n",
    "    \n",
    "    query_vector = []\n",
    "    \n",
    "    for word in all_terms :\n",
    "    \n",
    "        if word in tf_idf_query :\n",
    "            temp = tf_idf_query[word]\n",
    "            query_vector.append(temp)\n",
    "        else:\n",
    "            query_vector.append(0.0)\n",
    "            \n",
    "            \n",
    "    #Normalization of query vector    \n",
    "    \n",
    "    norm_query_vector = []\n",
    "\n",
    "    normal = 0.0\n",
    "    for item in query_vector:\n",
    "        normal += (item*item)\n",
    "    \n",
    "    normal = 1/np.sqrt(normal)\n",
    "    for item in query_vector:\n",
    "        norm_query_vector.append(item * normal)\n",
    "        \n",
    "        \n",
    "    \n",
    "    return norm_query_vector\n",
    "    "
   ]
  },
  {
   "cell_type": "code",
   "execution_count": 299,
   "metadata": {},
   "outputs": [],
   "source": [
    "def cosineScore(norm_query_vector,norm_doc_vector,top_k_doc_to_show):\n",
    "    \n",
    "    cosine_scores = {}\n",
    "\n",
    "    doc_id = -1\n",
    "    for item in norm_doc_vector:\n",
    "    \n",
    "        doc_id += 1\n",
    "        \n",
    "        list_doc = np.array(item)\n",
    "        list_query = np.array(norm_query_vector)\n",
    "        score = sum(list(list_doc * list_query))\n",
    "    \n",
    "        cosine_scores[doc_id] = score\n",
    "    \n",
    "    sorted_cosine_scores = dict(sorted(cosine_scores.items(),key=operator.itemgetter(1),reverse=True))\n",
    "    l = list(sorted_cosine_scores)\n",
    "    \n",
    "    ret = []\n",
    "    \n",
    "    for i in l:\n",
    "        if i not in documents_visited:\n",
    "            ret.append(i)\n",
    "    \n",
    "    \n",
    "    return ret[:top_k_doc_to_show],sorted_cosine_scores   \n",
    "\n",
    "    "
   ]
  },
  {
   "cell_type": "code",
   "execution_count": 300,
   "metadata": {},
   "outputs": [],
   "source": [
    "def drawprcurve(rel_doc):\n",
    "    \n",
    "    \n",
    "    recall = []\n",
    "    precision = []\n",
    "    \n",
    "    relevance = len(rel_doc)\n",
    "    \n",
    "    count = 1\n",
    "    for item in rel_doc:\n",
    "        \n",
    "        recall.append(count/relevance)\n",
    "        precision.append(count/(item+1))\n",
    "        \n",
    "        count = count + 1\n",
    "    \n",
    "    print(\"PR Curve Ploting : \")\n",
    "    \n",
    "    plt.plot(recall,precision)\n",
    "    plt.xlabel(\"Recall\")\n",
    "    plt.ylabel(\"Precision\")\n",
    "    plt.show()\n",
    "    \n",
    "    \n",
    "    sum_ = 0\n",
    "    \n",
    "    for item in precision:\n",
    "        sum_ = sum_+ item\n",
    "    \n",
    "    \n",
    "    ans_ = sum_/len(precision)\n",
    "    map_cal.append(ans_)\n",
    "    \n",
    "    \n",
    "    sum__ = 0 \n",
    "    \n",
    "    for item in map_cal:\n",
    "        sum__ = sum__ + item\n",
    "    \n",
    "    ans = sum__/len(map_cal)\n",
    "    \n",
    "    print(\"MAP Calculation is : \",ans)"
   ]
  },
  {
   "cell_type": "code",
   "execution_count": 304,
   "metadata": {},
   "outputs": [],
   "source": [
    "query_check = {}\n",
    "documents_visited = []\n",
    "rel_doc_int = []\n",
    "\n",
    "map_cal = []\n",
    "\n",
    "def runalgorithm(query,iterate,documents_visited,top_k_doc_to_show,relevant_doc_to_pick,relevant_doc_foulder):\n",
    "    \n",
    "    \n",
    "    #query to vector form!!\n",
    "    norm_query_vector = normalizeQueryVector(query)\n",
    "    \n",
    "    for i in range(iterate):\n",
    "        \n",
    "        print(\"\\n Round \",i)\n",
    "        print()\n",
    "        \n",
    "        \n",
    "        if 'present' in query_check :\n",
    "            \n",
    "            getlist = query_check['present']\n",
    "            query_relevant = getlist[0]\n",
    "            query_irrelavant = getlist[1]\n",
    "            query_vector_old = getlist[2]\n",
    "            \n",
    "            \n",
    "            #Using alpha = 1, beta = 0.75 and gamma = 0.25\n",
    "            \n",
    "            query_vector_after = (1*query_vector_old) + (0.75*centroid(query_relevant)) - (0.25*centroid(query_irrelavant))\n",
    "            \n",
    "            \n",
    "        else :\n",
    "            query_vector_after = norm_query_vector\n",
    "            query_relevant = set()\n",
    "            query_irrelavant = set()\n",
    "             \n",
    "        gettopdocuments,allscore = cosineScore(query_vector_after,norm_doc_vector,top_k_doc_to_show)    \n",
    "        \n",
    "        \n",
    "        print(\"Enter \",relevant_doc_to_pick,\" documents to pick from\",relevant_doc_foulder,\"file as they are relevant\")\n",
    "        print()    \n",
    "        #[[rel doc][non rel doc]]\n",
    "        \n",
    "        seg_doc = segregatedocuments(gettopdocuments) \n",
    "        \n",
    "        \n",
    "        \n",
    "        query_relevant = query_relevant | set(seg_doc[0])\n",
    "        query_irrelavant = query_irrelavant | set(seg_doc[1])\n",
    "        \n",
    "        documents_visited += query_relevant\n",
    "        documents_visited += query_irrelavant\n",
    "        \n",
    "#         print(query_relevant,query_irrelavant)\n",
    "        \n",
    "        q_r = set()\n",
    "        queryrel_list = []\n",
    "        for item in query_relevant:\n",
    "            q_r.add(paths[item])\n",
    "            queryrel_list.append(path_num_int[item])\n",
    "            \n",
    "        q_ir = set()\n",
    "        querynonrel_list = []\n",
    "        for item in query_irrelavant:\n",
    "            q_ir.add(paths[item])\n",
    "            querynonrel_list.append(path_num_int[item])\n",
    "            \n",
    "            \n",
    "        \n",
    "        print(\"The documents which are relevant till now :\",q_r)\n",
    "        print()\n",
    "#         print(\"The documents which are not relevant till now :\",q_ir)\n",
    "        \n",
    "        print()\n",
    "        drawprcurve(rel_doc_int)\n",
    "        \n",
    "        rel_doc_int.clear()\n",
    "        \n",
    "        print()\n",
    "        drawgraph(query_relevant,query_irrelavant,query_vector_after)\n",
    "        \n",
    "        query_check['present'] = [query_relevant,query_irrelavant,query_vector_after]\n",
    "        \n",
    "        "
   ]
  },
  {
   "cell_type": "code",
   "execution_count": 305,
   "metadata": {},
   "outputs": [],
   "source": [
    "query = \"Scientific tools for preserving rights and body\"\n",
    "relevant_doc_foulder = \"talk.politics.misc\""
   ]
  },
  {
   "cell_type": "code",
   "execution_count": 306,
   "metadata": {
    "scrolled": false
   },
   "outputs": [
    {
     "name": "stdout",
     "output_type": "stream",
     "text": [
      "\n",
      " Round  0\n",
      "\n",
      "Enter  10  documents to pick from talk.politics.misc file as they are relevant\n",
      "\n",
      "0 sci.space/61335\n",
      "1 sci.med/59434\n",
      "2 sci.space/61385\n",
      "3 sci.space/60229\n",
      "4 sci.space/60248\n",
      "5 sci.space/60809\n",
      "6 sci.med/59137\n",
      "7 comp.graphics/37920\n",
      "8 sci.med/58053\n",
      "9 comp.graphics/39655\n",
      "10 sci.space/61079\n",
      "11 sci.space/60797\n",
      "12 sci.space/60820\n",
      "13 sci.space/60819\n",
      "14 sci.space/61009\n",
      "15 talk.politics.misc/178540\n",
      "16 comp.graphics/39736\n",
      "17 sci.med/58569\n",
      "18 sci.space/61456\n",
      "19 sci.med/59548\n",
      "20 sci.med/58775\n",
      "21 comp.graphics/38409\n",
      "22 comp.graphics/37919\n",
      "23 sci.med/58052\n",
      "24 talk.politics.misc/179106\n",
      "25 sci.med/59291\n",
      "26 sci.med/58900\n",
      "27 sci.space/59871\n",
      "28 sci.med/58997\n",
      "29 sci.med/58108\n",
      "30 sci.med/58898\n",
      "31 sci.med/58941\n",
      "32 talk.politics.misc/178546\n",
      "33 comp.graphics/38484\n",
      "34 sci.med/58719\n",
      "35 comp.graphics/39057\n",
      "36 sci.med/58139\n",
      "37 sci.med/59371\n",
      "38 sci.med/59069\n",
      "39 sci.med/59273\n",
      "40 sci.space/60872\n",
      "41 comp.graphics/38609\n",
      "42 comp.graphics/38375\n",
      "43 comp.graphics/37261\n",
      "44 comp.graphics/38852\n",
      "45 sci.space/61145\n",
      "46 sci.med/59606\n",
      "47 comp.graphics/39055\n",
      "48 sci.space/60938\n",
      "49 talk.politics.misc/179045\n",
      "50 sci.space/61331\n",
      "51 sci.med/58882\n",
      "52 talk.politics.misc/178817\n",
      "53 sci.med/59372\n",
      "54 talk.politics.misc/178879\n",
      "55 sci.med/58947\n",
      "56 comp.graphics/38311\n",
      "57 comp.graphics/38764\n",
      "58 sci.space/61241\n",
      "59 sci.med/58961\n",
      "60 sci.med/59635\n",
      "61 sci.med/58921\n",
      "62 comp.graphics/38912\n",
      "63 sci.space/60196\n",
      "64 talk.politics.misc/179047\n",
      "65 sci.med/58880\n",
      "66 comp.graphics/38897\n",
      "67 sci.med/58981\n",
      "68 sci.med/59023\n",
      "69 comp.graphics/39021\n",
      "70 sci.med/59589\n",
      "71 sci.med/59233\n",
      "72 talk.politics.misc/178340\n",
      "73 sci.med/58983\n",
      "74 sci.space/61257\n",
      "75 sci.med/58958\n",
      "76 sci.med/58910\n",
      "77 comp.graphics/38223\n",
      "78 talk.politics.misc/178802\n",
      "79 sci.space/59913\n",
      "80 comp.graphics/39073\n",
      "81 sci.med/59338\n",
      "82 sci.space/60875\n",
      "83 sci.space/61273\n",
      "84 sci.space/61118\n",
      "85 sci.space/61568\n",
      "86 sci.med/58113\n",
      "87 talk.politics.misc/176974\n",
      "88 sci.med/59458\n",
      "89 sci.med/58872\n",
      "90 sci.med/58938\n",
      "91 comp.graphics/38593\n",
      "92 comp.graphics/38769\n",
      "93 comp.graphics/38636\n",
      "94 sci.med/58939\n",
      "95 sci.med/59034\n",
      "96 sci.med/59596\n",
      "97 sci.space/60213\n",
      "98 sci.med/58792\n",
      "99 talk.politics.misc/176850\n",
      "Enter Relevant Docs: 15 24 32 49 52 54 64 72 78 89\n",
      "The documents which are relevant till now : {'talk.politics.misc/179106', 'talk.politics.misc/179045', 'talk.politics.misc/179047', 'talk.politics.misc/178802', 'talk.politics.misc/178879', 'talk.politics.misc/178540', 'talk.politics.misc/178546', 'talk.politics.misc/178340', 'talk.politics.misc/178817', 'sci.med/58872'}\n",
      "\n",
      "\n",
      "PR Curve Ploting : \n"
     ]
    },
    {
     "data": {
      "image/png": "[encoded data removed]",
      "text/plain": [
       "<Figure size 432x288 with 1 Axes>"
      ]
     },
     "metadata": {
      "needs_background": "light"
     },
     "output_type": "display_data"
    },
    {
     "name": "stdout",
     "output_type": "stream",
     "text": [
      "MAP Calculation is :  0.09591561331737301\n",
      "\n"
     ]
    },
    {
     "data": {
      "image/png": "[encoded data removed]",
      "text/plain": [
       "<Figure size 432x288 with 1 Axes>"
      ]
     },
     "metadata": {
      "needs_background": "light"
     },
     "output_type": "display_data"
    },
    {
     "name": "stdout",
     "output_type": "stream",
     "text": [
      "\n",
      " Round  1\n",
      "\n",
      "Enter  10  documents to pick from talk.politics.misc file as they are relevant\n",
      "\n",
      "0 talk.politics.misc/178695\n",
      "1 talk.politics.misc/178431\n",
      "2 talk.politics.misc/178587\n",
      "3 talk.politics.misc/178413\n",
      "4 talk.politics.misc/178329\n",
      "5 talk.politics.misc/178432\n",
      "6 talk.politics.misc/178492\n",
      "7 talk.politics.misc/176907\n",
      "8 talk.politics.misc/178419\n",
      "9 talk.politics.misc/178349\n",
      "10 talk.politics.misc/178446\n",
      "11 talk.politics.misc/178416\n",
      "12 talk.politics.misc/178434\n",
      "13 talk.politics.misc/178721\n",
      "14 talk.politics.misc/179008\n",
      "15 talk.politics.misc/179071\n",
      "16 talk.politics.misc/178673\n",
      "17 talk.politics.misc/178453\n",
      "18 talk.politics.misc/178944\n",
      "19 talk.politics.misc/176902\n",
      "20 talk.politics.misc/178430\n",
      "21 talk.politics.misc/176865\n",
      "22 talk.politics.misc/179091\n",
      "23 talk.politics.misc/178435\n",
      "24 talk.politics.misc/178474\n",
      "25 talk.politics.misc/176901\n",
      "26 talk.politics.misc/178352\n",
      "27 talk.politics.misc/178553\n",
      "28 talk.politics.misc/178978\n",
      "29 talk.politics.misc/178535\n",
      "30 talk.politics.misc/178809\n",
      "31 talk.politics.misc/178722\n",
      "32 talk.politics.misc/179009\n",
      "33 talk.politics.misc/178449\n",
      "34 talk.politics.misc/179041\n",
      "35 talk.politics.misc/178475\n",
      "36 talk.politics.misc/179033\n",
      "37 talk.politics.misc/177008\n",
      "38 talk.politics.misc/178322\n",
      "39 talk.politics.misc/178487\n",
      "40 talk.politics.misc/176913\n",
      "41 talk.politics.misc/177020\n",
      "42 talk.politics.misc/179015\n",
      "43 talk.politics.misc/178517\n",
      "44 talk.politics.misc/176957\n",
      "45 talk.politics.misc/178616\n",
      "46 talk.politics.misc/178769\n",
      "47 talk.politics.misc/178315\n",
      "48 talk.politics.misc/178698\n",
      "49 talk.politics.misc/178519\n",
      "50 talk.politics.misc/179114\n",
      "51 talk.politics.misc/178528\n",
      "52 talk.politics.misc/178927\n",
      "53 talk.politics.misc/178321\n",
      "54 talk.politics.misc/178552\n",
      "55 talk.politics.misc/176970\n",
      "56 sci.med/59183\n",
      "57 talk.politics.misc/176903\n",
      "58 talk.politics.misc/179064\n",
      "59 talk.politics.misc/178406\n",
      "60 talk.politics.misc/178724\n",
      "61 sci.space/61553\n",
      "62 talk.politics.misc/178968\n",
      "63 talk.politics.misc/178869\n",
      "64 sci.med/59396\n",
      "65 talk.politics.misc/176919\n",
      "66 sci.space/61560\n",
      "67 talk.politics.misc/178776\n",
      "68 sci.med/58867\n",
      "69 talk.politics.misc/177002\n",
      "70 talk.politics.misc/178691\n",
      "71 talk.politics.misc/178903\n",
      "72 sci.med/59582\n",
      "73 sci.med/58788\n",
      "74 talk.politics.misc/178945\n",
      "75 talk.politics.misc/178870\n",
      "76 talk.politics.misc/178562\n",
      "77 sci.space/61049\n",
      "78 talk.politics.misc/178877\n",
      "79 talk.politics.misc/179054\n",
      "80 sci.med/58878\n",
      "81 comp.graphics/38376\n",
      "82 comp.graphics/38853\n",
      "83 talk.politics.misc/178645\n",
      "84 sci.space/60785\n",
      "85 sci.space/61000\n",
      "86 talk.politics.misc/178304\n",
      "87 talk.politics.misc/177004\n",
      "88 comp.graphics/37955\n",
      "89 sci.med/59387\n",
      "90 sci.med/59527\n",
      "91 talk.politics.misc/176896\n",
      "92 rec.sport.hockey/53811\n",
      "93 talk.politics.misc/178683\n",
      "94 rec.sport.hockey/53556\n",
      "95 talk.politics.misc/178913\n",
      "96 sci.space/61425\n",
      "97 talk.politics.misc/178752\n",
      "98 rec.sport.hockey/53685\n",
      "99 sci.med/58844\n",
      "Enter Relevant Docs: 0 1 2 3 6 9 10 11 12 17 18 19 20 21 25 26\n",
      "The documents which are relevant till now : {'talk.politics.misc/179106', 'talk.politics.misc/176865', 'talk.politics.misc/178416', 'talk.politics.misc/178453', 'talk.politics.misc/176901', 'talk.politics.misc/178349', 'talk.politics.misc/178802', 'talk.politics.misc/178879', 'talk.politics.misc/178446', 'talk.politics.misc/178430', 'talk.politics.misc/178546', 'talk.politics.misc/178492', 'talk.politics.misc/178540', 'talk.politics.misc/178413', 'talk.politics.misc/178817', 'talk.politics.misc/178352', 'talk.politics.misc/178434', 'talk.politics.misc/178695', 'talk.politics.misc/179045', 'talk.politics.misc/176902', 'talk.politics.misc/179047', 'talk.politics.misc/178431', 'talk.politics.misc/178944', 'talk.politics.misc/178340', 'sci.med/58872', 'talk.politics.misc/178587'}\n",
      "\n",
      "\n",
      "PR Curve Ploting : \n"
     ]
    },
    {
     "data": {
      "image/png": "[encoded data removed]",
      "text/plain": [
       "<Figure size 432x288 with 1 Axes>"
      ]
     },
     "metadata": {
      "needs_background": "light"
     },
     "output_type": "display_data"
    },
    {
     "name": "stdout",
     "output_type": "stream",
     "text": [
      "MAP Calculation is :  0.4063657303626628\n",
      "\n"
     ]
    },
    {
     "data": {
      "image/png": "[encoded data removed]",
      "text/plain": [
       "<Figure size 432x288 with 1 Axes>"
      ]
     },
     "metadata": {
      "needs_background": "light"
     },
     "output_type": "display_data"
    },
    {
     "name": "stdout",
     "output_type": "stream",
     "text": [
      "\n",
      " Round  2\n",
      "\n",
      "Enter  10  documents to pick from talk.politics.misc file as they are relevant\n",
      "\n",
      "0 talk.politics.misc/178382\n",
      "1 talk.politics.misc/178756\n",
      "2 talk.politics.misc/176953\n",
      "3 talk.politics.misc/178422\n",
      "4 talk.politics.misc/178417\n",
      "5 talk.politics.misc/179058\n",
      "6 talk.politics.misc/178865\n",
      "7 talk.politics.misc/176979\n",
      "8 talk.politics.misc/178894\n",
      "9 talk.politics.misc/176968\n",
      "10 talk.politics.misc/178313\n",
      "11 talk.politics.misc/179029\n",
      "12 talk.politics.misc/176899\n",
      "13 talk.politics.misc/179113\n",
      "14 talk.politics.misc/178908\n",
      "15 talk.politics.misc/176898\n",
      "16 talk.politics.misc/178529\n",
      "17 talk.politics.misc/176897\n",
      "18 talk.politics.misc/179038\n",
      "19 talk.politics.misc/176873\n",
      "20 talk.politics.misc/179107\n",
      "21 talk.politics.misc/178799\n",
      "22 talk.politics.misc/179112\n",
      "23 talk.politics.misc/178839\n",
      "24 talk.politics.misc/179068\n",
      "25 talk.politics.misc/178786\n",
      "26 talk.politics.misc/179073\n",
      "27 talk.politics.misc/178565\n",
      "28 talk.politics.misc/176904\n",
      "29 talk.politics.misc/178601\n",
      "30 comp.graphics/38403\n",
      "31 talk.politics.misc/178415\n",
      "32 talk.politics.misc/178862\n",
      "33 talk.politics.misc/176874\n",
      "34 talk.politics.misc/178889\n",
      "35 talk.politics.misc/178765\n",
      "36 talk.politics.misc/178571\n",
      "37 comp.graphics/39078\n",
      "38 talk.politics.misc/178339\n",
      "39 talk.politics.misc/176870\n",
      "40 comp.graphics/39638\n",
      "41 talk.politics.misc/178480\n",
      "42 talk.politics.misc/176895\n",
      "43 talk.politics.misc/178810\n",
      "44 talk.politics.misc/178520\n",
      "45 talk.politics.misc/178314\n",
      "46 talk.politics.misc/176889\n",
      "47 talk.politics.misc/178293\n",
      "48 talk.politics.misc/176960\n",
      "49 talk.politics.misc/178861\n",
      "50 talk.politics.misc/178773\n",
      "51 talk.politics.misc/176929\n",
      "52 talk.politics.misc/178440\n",
      "53 talk.politics.misc/178359\n",
      "54 talk.politics.misc/178561\n",
      "55 talk.politics.misc/179100\n",
      "56 talk.politics.misc/178663\n",
      "57 talk.politics.misc/177005\n",
      "58 talk.politics.misc/178298\n",
      "59 sci.space/61357\n",
      "60 talk.politics.misc/178324\n",
      "61 talk.politics.misc/178754\n",
      "62 talk.politics.misc/178405\n",
      "63 talk.politics.misc/178873\n",
      "64 talk.politics.misc/178760\n",
      "65 talk.politics.misc/176951\n",
      "66 talk.politics.misc/176985\n",
      "67 talk.politics.misc/178897\n",
      "68 talk.politics.misc/178710\n",
      "69 talk.politics.misc/178688\n",
      "70 talk.politics.misc/179092\n",
      "71 talk.politics.misc/178706\n",
      "72 talk.politics.misc/178886\n",
      "73 sci.space/61299\n",
      "74 talk.politics.misc/179088\n",
      "75 talk.politics.misc/178898\n",
      "76 talk.politics.misc/178890\n",
      "77 talk.politics.misc/178711\n",
      "78 talk.politics.misc/178558\n",
      "79 talk.politics.misc/178425\n",
      "80 talk.politics.misc/178641\n",
      "81 talk.politics.misc/178317\n",
      "82 talk.politics.misc/178759\n",
      "83 talk.politics.misc/178655\n",
      "84 talk.politics.misc/178830\n",
      "85 talk.politics.misc/178320\n",
      "86 talk.politics.misc/178479\n",
      "87 talk.politics.misc/179090\n",
      "88 talk.politics.misc/178762\n",
      "89 talk.politics.misc/178547\n",
      "90 talk.politics.misc/178501\n",
      "91 talk.politics.misc/178493\n",
      "92 talk.politics.misc/178684\n",
      "93 talk.politics.misc/178914\n",
      "94 talk.politics.misc/178888\n",
      "95 talk.politics.misc/176944\n",
      "96 talk.politics.misc/178672\n",
      "97 talk.politics.misc/178500\n",
      "98 talk.politics.misc/176948\n",
      "99 sci.med/59415\n",
      "Enter Relevant Docs: 0 1 3 4 5 7 8 9 12 13 14 17 18 21 23\n",
      "The documents which are relevant till now : {'talk.politics.misc/179106', 'talk.politics.misc/176865', 'talk.politics.misc/178756', 'talk.politics.misc/176979', 'talk.politics.misc/178422', 'talk.politics.misc/178416', 'talk.politics.misc/178453', 'talk.politics.misc/176901', 'talk.politics.misc/176968', 'talk.politics.misc/178839', 'talk.politics.misc/179038', 'talk.politics.misc/178349', 'talk.politics.misc/176899', 'talk.politics.misc/178802', 'talk.politics.misc/178879', 'talk.politics.misc/178446', 'talk.politics.misc/178430', 'talk.politics.misc/178546', 'talk.politics.misc/179058', 'talk.politics.misc/178492', 'talk.politics.misc/178540', 'talk.politics.misc/178799', 'talk.politics.misc/178413', 'talk.politics.misc/178382', 'talk.politics.misc/178908', 'talk.politics.misc/178817', 'talk.politics.misc/176897', 'talk.politics.misc/178352', 'talk.politics.misc/178894', 'talk.politics.misc/179113', 'talk.politics.misc/178434', 'talk.politics.misc/178695', 'talk.politics.misc/179045', 'talk.politics.misc/176902', 'talk.politics.misc/179047', 'talk.politics.misc/178417', 'talk.politics.misc/178431', 'talk.politics.misc/178944', 'talk.politics.misc/178340', 'sci.med/58872', 'talk.politics.misc/178587'}\n",
      "\n",
      "\n",
      "PR Curve Ploting : \n"
     ]
    },
    {
     "data": {
      "image/png": "[encoded data removed]",
      "text/plain": [
       "<Figure size 432x288 with 1 Axes>"
      ]
     },
     "metadata": {
      "needs_background": "light"
     },
     "output_type": "display_data"
    },
    {
     "name": "stdout",
     "output_type": "stream",
     "text": [
      "MAP Calculation is :  0.5256500131391961\n",
      "\n"
     ]
    },
    {
     "data": {
      "image/png": "[encoded data removed]",
      "text/plain": [
       "<Figure size 432x288 with 1 Axes>"
      ]
     },
     "metadata": {
      "needs_background": "light"
     },
     "output_type": "display_data"
    }
   ],
   "source": [
    "# We are also giving the relevant documenst\n",
    "\n",
    "num_of_iteration = 3\n",
    "\n",
    "#documents to retrive\n",
    "top_k_doc_to_show = 100\n",
    "\n",
    "#p% of total documents\n",
    "relevant_doc_to_pick = 10 \n",
    "\n",
    "runalgorithm(query,num_of_iteration,documents_visited,top_k_doc_to_show,relevant_doc_to_pick,relevant_doc_foulder)"
   ]
  }
 ],
 "metadata": {
  "kernelspec": {
   "display_name": "Python 3",
   "language": "python",
   "name": "python3"
  },
  "language_info": {
   "codemirror_mode": {
    "name": "ipython",
    "version": 3
   },
   "file_extension": ".py",
   "mimetype": "text/x-python",
   "name": "python",
   "nbconvert_exporter": "python",
   "pygments_lexer": "ipython3",
   "version": "3.7.3"
  }
 },
 "nbformat": 4,
 "nbformat_minor": 2
}
